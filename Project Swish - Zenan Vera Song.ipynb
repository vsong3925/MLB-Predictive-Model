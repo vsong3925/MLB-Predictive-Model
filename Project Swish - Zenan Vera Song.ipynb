{
 "cells": [
  {
   "cell_type": "code",
   "execution_count": 1,
   "metadata": {},
   "outputs": [],
   "source": [
    "import pandas as pd\n",
    "import numpy as np\n",
    "import matplotlib.pyplot as plt\n",
    "import seaborn as sns\n",
    "\n",
    "import os"
   ]
  },
  {
   "cell_type": "code",
   "execution_count": 2,
   "metadata": {},
   "outputs": [],
   "source": [
    "from sklearn.model_selection import train_test_split\n",
    "from sklearn.ensemble import RandomForestClassifier\n",
    "from sklearn.metrics import classification_report, confusion_matrix"
   ]
  },
  {
   "cell_type": "code",
   "execution_count": 3,
   "metadata": {},
   "outputs": [
    {
     "name": "stdout",
     "output_type": "stream",
     "text": [
      "/Users/verasong/MLB Predicative Model Swish\n"
     ]
    }
   ],
   "source": [
    "# Load Dataset\n",
    "current_directory = os.getcwd()\n",
    "print(current_directory)"
   ]
  },
  {
   "cell_type": "code",
   "execution_count": 4,
   "metadata": {},
   "outputs": [
    {
     "name": "stderr",
     "output_type": "stream",
     "text": [
      "/Users/verasong/opt/anaconda3/lib/python3.8/site-packages/IPython/core/interactiveshell.py:3071: DtypeWarning: Columns (29,30) have mixed types.Specify dtype option on import or set low_memory=False.\n",
      "  has_raised = await self.run_ast_nodes(code_ast.body, cell_name,\n"
     ]
    }
   ],
   "source": [
    "# Load Dataset\n",
    "file_path = '/Users/verasong/MLB Predicative Model Swish/pitches'\n",
    "\n",
    "df = pd.read_csv(file_path, delimiter=',')"
   ]
  },
  {
   "cell_type": "code",
   "execution_count": 5,
   "metadata": {},
   "outputs": [],
   "source": [
    "# Select and clean data\n",
    "raw_data = df[['inning', 'top', 'at_bat_num', 'pcount_at_bat', 'pcount_pitcher', 'pitch_type', 'b_height', 'p_throws', 'strikes', 'spin_dir', 'spin_rate']]\n",
    "\n",
    "data = raw_data.fillna(0)"
   ]
  },
  {
   "cell_type": "code",
   "execution_count": 6,
   "metadata": {},
   "outputs": [
    {
     "data": {
      "text/html": [
       "<div>\n",
       "<style scoped>\n",
       "    .dataframe tbody tr th:only-of-type {\n",
       "        vertical-align: middle;\n",
       "    }\n",
       "\n",
       "    .dataframe tbody tr th {\n",
       "        vertical-align: top;\n",
       "    }\n",
       "\n",
       "    .dataframe thead th {\n",
       "        text-align: right;\n",
       "    }\n",
       "</style>\n",
       "<table border=\"1\" class=\"dataframe\">\n",
       "  <thead>\n",
       "    <tr style=\"text-align: right;\">\n",
       "      <th></th>\n",
       "      <th>inning</th>\n",
       "      <th>top</th>\n",
       "      <th>at_bat_num</th>\n",
       "      <th>pcount_at_bat</th>\n",
       "      <th>pcount_pitcher</th>\n",
       "      <th>pitch_type</th>\n",
       "      <th>b_height</th>\n",
       "      <th>p_throws</th>\n",
       "      <th>strikes</th>\n",
       "      <th>spin_dir</th>\n",
       "      <th>spin_rate</th>\n",
       "    </tr>\n",
       "  </thead>\n",
       "  <tbody>\n",
       "    <tr>\n",
       "      <th>0</th>\n",
       "      <td>1</td>\n",
       "      <td>1</td>\n",
       "      <td>1</td>\n",
       "      <td>1</td>\n",
       "      <td>1</td>\n",
       "      <td>0</td>\n",
       "      <td>5-8</td>\n",
       "      <td>R</td>\n",
       "      <td>0</td>\n",
       "      <td>0.0</td>\n",
       "      <td>0.0</td>\n",
       "    </tr>\n",
       "    <tr>\n",
       "      <th>1</th>\n",
       "      <td>1</td>\n",
       "      <td>1</td>\n",
       "      <td>1</td>\n",
       "      <td>2</td>\n",
       "      <td>2</td>\n",
       "      <td>0</td>\n",
       "      <td>5-8</td>\n",
       "      <td>R</td>\n",
       "      <td>0</td>\n",
       "      <td>0.0</td>\n",
       "      <td>0.0</td>\n",
       "    </tr>\n",
       "    <tr>\n",
       "      <th>2</th>\n",
       "      <td>1</td>\n",
       "      <td>1</td>\n",
       "      <td>1</td>\n",
       "      <td>3</td>\n",
       "      <td>3</td>\n",
       "      <td>0</td>\n",
       "      <td>5-8</td>\n",
       "      <td>R</td>\n",
       "      <td>0</td>\n",
       "      <td>0.0</td>\n",
       "      <td>0.0</td>\n",
       "    </tr>\n",
       "    <tr>\n",
       "      <th>3</th>\n",
       "      <td>1</td>\n",
       "      <td>1</td>\n",
       "      <td>1</td>\n",
       "      <td>4</td>\n",
       "      <td>4</td>\n",
       "      <td>0</td>\n",
       "      <td>5-8</td>\n",
       "      <td>R</td>\n",
       "      <td>1</td>\n",
       "      <td>0.0</td>\n",
       "      <td>0.0</td>\n",
       "    </tr>\n",
       "    <tr>\n",
       "      <th>4</th>\n",
       "      <td>1</td>\n",
       "      <td>1</td>\n",
       "      <td>2</td>\n",
       "      <td>1</td>\n",
       "      <td>5</td>\n",
       "      <td>0</td>\n",
       "      <td>5-10</td>\n",
       "      <td>R</td>\n",
       "      <td>0</td>\n",
       "      <td>0.0</td>\n",
       "      <td>0.0</td>\n",
       "    </tr>\n",
       "  </tbody>\n",
       "</table>\n",
       "</div>"
      ],
      "text/plain": [
       "   inning  top  at_bat_num  pcount_at_bat  pcount_pitcher pitch_type b_height  \\\n",
       "0       1    1           1              1               1          0      5-8   \n",
       "1       1    1           1              2               2          0      5-8   \n",
       "2       1    1           1              3               3          0      5-8   \n",
       "3       1    1           1              4               4          0      5-8   \n",
       "4       1    1           2              1               5          0     5-10   \n",
       "\n",
       "  p_throws  strikes  spin_dir  spin_rate  \n",
       "0        R        0       0.0        0.0  \n",
       "1        R        0       0.0        0.0  \n",
       "2        R        0       0.0        0.0  \n",
       "3        R        1       0.0        0.0  \n",
       "4        R        0       0.0        0.0  "
      ]
     },
     "execution_count": 6,
     "metadata": {},
     "output_type": "execute_result"
    }
   ],
   "source": [
    "data.head()"
   ]
  },
  {
   "cell_type": "code",
   "execution_count": 7,
   "metadata": {},
   "outputs": [
    {
     "data": {
      "image/png": "[encoded data removed]",
      "text/plain": [
       "<Figure size 576x432 with 1 Axes>"
      ]
     },
     "metadata": {
      "needs_background": "light"
     },
     "output_type": "display_data"
    }
   ],
   "source": [
    "# Target variable distribution\n",
    "plt.figure(figsize=(8, 6))\n",
    "sns.countplot(data=data, x=\"pitch_type\", order=data[\"pitch_type\"].value_counts().index, palette=\"viridis\")\n",
    "plt.title(\"Pitch Type Distribution\")\n",
    "plt.xlabel(\"Pitch Type\")\n",
    "plt.ylabel(\"Count\")\n",
    "plt.show()"
   ]
  },
  {
   "cell_type": "code",
   "execution_count": 8,
   "metadata": {},
   "outputs": [
    {
     "data": {
      "image/png": "[encoded data removed]",
      "text/plain": [
       "<Figure size 720x576 with 2 Axes>"
      ]
     },
     "metadata": {
      "needs_background": "light"
     },
     "output_type": "display_data"
    }
   ],
   "source": [
    "# Correlation heatmap for numerical features\n",
    "numerical_features = [\"inning\", 'strikes', \"spin_dir\", 'spin_rate', 'p_throws']\n",
    "plt.figure(figsize=(10, 8))\n",
    "sns.heatmap(data[numerical_features].corr(), annot=True, cmap=\"coolwarm\", fmt=\".2f\")\n",
    "plt.title(\"Correlation Heatmap\")\n",
    "plt.show()"
   ]
  },
  {
   "cell_type": "code",
   "execution_count": 9,
   "metadata": {},
   "outputs": [],
   "source": [
    "# Encode categorical variables\n",
    "encoded_data_X = pd.get_dummies(data, columns=['b_height', 'p_throws'], drop_first=True)"
   ]
  },
  {
   "cell_type": "code",
   "execution_count": 10,
   "metadata": {},
   "outputs": [],
   "source": [
    "# Encode categorical variables\n",
    "clean_data = data['pitch_type'].replace({\n",
    "    #'NA': 0,\n",
    "    'FF': 1, \n",
    "    'SL': 2, \n",
    "    'CU': 3, \n",
    "    'SI': 4, \n",
    "    'FC': 5, \n",
    "    'FT': 6, \n",
    "    'KC': 7, \n",
    "    'CH': 8, \n",
    "    'IN': 9, \n",
    "    'KN': 10,\n",
    "    'FS': 11, \n",
    "    'FA': 12, \n",
    "    'PO': 13, \n",
    "    'FO': 14, \n",
    "    'EP': 15, \n",
    "    'UN': 16, \n",
    "    'SC': 17, \n",
    "    'AB': 18\n",
    "})"
   ]
  },
  {
   "cell_type": "code",
   "execution_count": null,
   "metadata": {},
   "outputs": [],
   "source": [
    "clean_data.unique()"
   ]
  },
  {
   "cell_type": "code",
   "execution_count": 11,
   "metadata": {},
   "outputs": [],
   "source": [
    "# Split the data into features and target\n",
    "X = encoded_data_X.drop(columns=['pitch_type'])\n",
    "#X = encoded_data_X.drop(columns=['inning', 'top', 'at_bat_num', 'pcount_at_bat', 'pcount_pitcher', 'pitch_type', 'strikes', 'spin_dir', 'spin_rate'])\n",
    "y = clean_data"
   ]
  },
  {
   "cell_type": "code",
   "execution_count": null,
   "metadata": {},
   "outputs": [],
   "source": [
    "y.unique()"
   ]
  },
  {
   "cell_type": "code",
   "execution_count": 12,
   "metadata": {},
   "outputs": [],
   "source": [
    "# Split into traning and test sets\n",
    "X_train, X_test, y_train, y_test = train_test_split(X, y, test_size=0.2, random_state=42)"
   ]
  },
  {
   "cell_type": "code",
   "execution_count": 13,
   "metadata": {},
   "outputs": [
    {
     "data": {
      "text/plain": [
       "RandomForestClassifier(random_state=42)"
      ]
     },
     "execution_count": 13,
     "metadata": {},
     "output_type": "execute_result"
    }
   ],
   "source": [
    "# Model Building\n",
    "model =  RandomForestClassifier(random_state=42)\n",
    "model.fit(X_train, y_train)"
   ]
  },
  {
   "cell_type": "code",
   "execution_count": 14,
   "metadata": {},
   "outputs": [
    {
     "name": "stderr",
     "output_type": "stream",
     "text": [
      "/Users/verasong/opt/anaconda3/lib/python3.8/site-packages/sklearn/metrics/_classification.py:1221: UndefinedMetricWarning: Precision and F-score are ill-defined and being set to 0.0 in labels with no predicted samples. Use `zero_division` parameter to control this behavior.\n",
      "  _warn_prf(average, modifier, msg_start, len(result))\n"
     ]
    },
    {
     "name": "stdout",
     "output_type": "stream",
     "text": [
      "Classification Report:\n",
      "               precision    recall  f1-score   support\n",
      "\n",
      "           0       1.00      1.00      1.00       442\n",
      "           1       0.75      0.86      0.80     47610\n",
      "           2       0.69      0.83      0.75     22037\n",
      "           3       0.74      0.79      0.76     11367\n",
      "           4       0.48      0.51      0.50     17489\n",
      "           5       0.55      0.30      0.39      8345\n",
      "           6       0.45      0.36      0.40     16299\n",
      "           7       0.36      0.02      0.03      1713\n",
      "           8       0.48      0.43      0.45     14472\n",
      "           9       0.65      0.18      0.28       797\n",
      "          10       0.41      0.04      0.08       847\n",
      "          11       0.30      0.05      0.09      2100\n",
      "          12       0.00      0.00      0.00        43\n",
      "          13       0.00      0.00      0.00       115\n",
      "          14       0.00      0.00      0.00        57\n",
      "          15       0.00      0.00      0.00        32\n",
      "          16       0.00      0.00      0.00         2\n",
      "          17       1.00      0.04      0.07        26\n",
      "\n",
      "    accuracy                           0.64    143793\n",
      "   macro avg       0.44      0.30      0.31    143793\n",
      "weighted avg       0.62      0.64      0.62    143793\n",
      "\n",
      "Confusion Matrix:\n",
      " [[  442     0     0     0     0     0     0     0     0     0     0     0\n",
      "      0     0     0     0     0     0]\n",
      " [    0 41144   685     5  1710   723  1871     0  1388    46     3    35\n",
      "      0     0     0     0     0     0]\n",
      " [    0   602 18223  1702    13  1145     3    14   265     5    20    44\n",
      "      1     0     0     0     0     0]\n",
      " [    0     3  2325  8943     7     5     0    32    37     0     9     6\n",
      "      0     0     0     0     0     0]\n",
      " [    0  3196    31     1  8860     3  3416     0  1934     5     2    41\n",
      "      0     0     0     0     0     0]\n",
      " [    0  2176  3405    30    13  2543     6     0   153     5     3    11\n",
      "      0     0     0     0     0     0]\n",
      " [    0  3922    41     0  4617    12  5815     0  1872     3     0    16\n",
      "      0     0     1     0     0     0]\n",
      " [    0     4   385  1289     1     0     0    27     4     0     1     2\n",
      "      0     0     0     0     0     0]\n",
      " [    0  3058   529    12  2681   106  1727     1  6246     7     5    99\n",
      "      0     0     0     1     0     0]\n",
      " [    0   432    80     0    37    32    16     0    60   140     0     0\n",
      "      0     0     0     0     0     0]\n",
      " [    0    48   477    85    15    51     1     0   132     0    35     3\n",
      "      0     0     0     0     0     0]\n",
      " [    0   473   238     0   307    33    72     0   855     2     5   115\n",
      "      0     0     0     0     0     0]\n",
      " [    0    12     2     0    11     0     4     0    13     0     0     1\n",
      "      0     0     0     0     0     0]\n",
      " [    0    89     1     0     5     5     7     0     8     0     0     0\n",
      "      0     0     0     0     0     0]\n",
      " [    0    13     8     0     4     0     0     0    27     1     0     4\n",
      "      0     0     0     0     0     0]\n",
      " [    0     1    17    11     0     0     0     0     1     0     2     0\n",
      "      0     0     0     0     0     0]\n",
      " [    0     0     2     0     0     0     0     0     0     0     0     0\n",
      "      0     0     0     0     0     0]\n",
      " [    0     0     6     0     4     0     0     0    13     0     0     2\n",
      "      0     0     0     0     0     1]]\n"
     ]
    }
   ],
   "source": [
    "# Model Evaluation\n",
    "predictions = model.predict(X_test)\n",
    "print(\"Classification Report:\\n\", classification_report(y_test, predictions))\n",
    "print(\"Confusion Matrix:\\n\", confusion_matrix(y_test, predictions))"
   ]
  },
  {
   "cell_type": "code",
   "execution_count": 15,
   "metadata": {},
   "outputs": [
    {
     "data": {
      "image/png": "[encoded data removed]",
      "text/plain": [
       "<Figure size 720x432 with 1 Axes>"
      ]
     },
     "metadata": {
      "needs_background": "light"
     },
     "output_type": "display_data"
    }
   ],
   "source": [
    "# Feature Importance\n",
    "feature_importances = pd.Series(model.feature_importances_, index=X.columns).sort_values(ascending=False)\n",
    "plt.figure(figsize=(10, 6))\n",
    "feature_importances.plot(kind=\"bar\", color=\"teal\")\n",
    "plt.title(\"Feature Importances\")\n",
    "plt.show()"
   ]
  },
  {
   "cell_type": "code",
   "execution_count": null,
   "metadata": {},
   "outputs": [],
   "source": []
  }
 ],
 "metadata": {
  "kernelspec": {
   "display_name": "Python 3",
   "language": "python",
   "name": "python3"
  },
  "language_info": {
   "codemirror_mode": {
    "name": "ipython",
    "version": 3
   },
   "file_extension": ".py",
   "mimetype": "text/x-python",
   "name": "python",
   "nbconvert_exporter": "python",
   "pygments_lexer": "ipython3",
   "version": "3.8.3"
  }
 },
 "nbformat": 4,
 "nbformat_minor": 4
}
